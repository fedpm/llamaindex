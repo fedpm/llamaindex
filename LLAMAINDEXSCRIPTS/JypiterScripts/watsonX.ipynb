{
 "cells": [
  {
   "cell_type": "markdown",
   "metadata": {},
   "source": [
    "Instalar dependencias"
   ]
  },
  {
   "cell_type": "code",
   "execution_count": 16,
   "metadata": {},
   "outputs": [
    {
     "name": "stdout",
     "output_type": "stream",
     "text": [
      "Requirement already satisfied: langchain==0.1.16 in c:\\apps\\python\\python311\\lib\\site-packages (0.1.16)\n",
      "Requirement already satisfied: PyYAML>=5.3 in c:\\apps\\python\\python311\\lib\\site-packages (from langchain==0.1.16) (6.0.1)\n",
      "Requirement already satisfied: SQLAlchemy<3,>=1.4 in c:\\apps\\python\\python311\\lib\\site-packages (from langchain==0.1.16) (2.0.29)\n",
      "Requirement already satisfied: aiohttp<4.0.0,>=3.8.3 in c:\\apps\\python\\python311\\lib\\site-packages (from langchain==0.1.16) (3.9.0)\n",
      "Requirement already satisfied: dataclasses-json<0.7,>=0.5.7 in c:\\apps\\python\\python311\\lib\\site-packages (from langchain==0.1.16) (0.6.2)\n",
      "Requirement already satisfied: jsonpatch<2.0,>=1.33 in c:\\apps\\python\\python311\\lib\\site-packages (from langchain==0.1.16) (1.33)\n",
      "Requirement already satisfied: langchain-community<0.1,>=0.0.32 in c:\\apps\\python\\python311\\lib\\site-packages (from langchain==0.1.16) (0.0.34)\n",
      "Requirement already satisfied: langchain-core<0.2.0,>=0.1.42 in c:\\apps\\python\\python311\\lib\\site-packages (from langchain==0.1.16) (0.1.45)\n",
      "Requirement already satisfied: langchain-text-splitters<0.1,>=0.0.1 in c:\\apps\\python\\python311\\lib\\site-packages (from langchain==0.1.16) (0.0.1)\n",
      "Requirement already satisfied: langsmith<0.2.0,>=0.1.17 in c:\\apps\\python\\python311\\lib\\site-packages (from langchain==0.1.16) (0.1.49)\n",
      "Requirement already satisfied: numpy<2,>=1 in c:\\apps\\python\\python311\\lib\\site-packages (from langchain==0.1.16) (1.26.2)\n",
      "Requirement already satisfied: pydantic<3,>=1 in c:\\apps\\python\\python311\\lib\\site-packages (from langchain==0.1.16) (2.7.0)\n",
      "Requirement already satisfied: requests<3,>=2 in c:\\apps\\python\\python311\\lib\\site-packages (from langchain==0.1.16) (2.31.0)\n",
      "Requirement already satisfied: tenacity<9.0.0,>=8.1.0 in c:\\apps\\python\\python311\\lib\\site-packages (from langchain==0.1.16) (8.2.3)\n",
      "Requirement already satisfied: attrs>=17.3.0 in c:\\apps\\python\\python311\\lib\\site-packages (from aiohttp<4.0.0,>=3.8.3->langchain==0.1.16) (23.1.0)\n",
      "Requirement already satisfied: multidict<7.0,>=4.5 in c:\\apps\\python\\python311\\lib\\site-packages (from aiohttp<4.0.0,>=3.8.3->langchain==0.1.16) (6.0.4)\n",
      "Requirement already satisfied: yarl<2.0,>=1.0 in c:\\apps\\python\\python311\\lib\\site-packages (from aiohttp<4.0.0,>=3.8.3->langchain==0.1.16) (1.9.2)\n",
      "Requirement already satisfied: frozenlist>=1.1.1 in c:\\apps\\python\\python311\\lib\\site-packages (from aiohttp<4.0.0,>=3.8.3->langchain==0.1.16) (1.4.0)\n",
      "Requirement already satisfied: aiosignal>=1.1.2 in c:\\apps\\python\\python311\\lib\\site-packages (from aiohttp<4.0.0,>=3.8.3->langchain==0.1.16) (1.3.1)\n",
      "Requirement already satisfied: marshmallow<4.0.0,>=3.18.0 in c:\\apps\\python\\python311\\lib\\site-packages (from dataclasses-json<0.7,>=0.5.7->langchain==0.1.16) (3.20.1)\n",
      "Requirement already satisfied: typing-inspect<1,>=0.4.0 in c:\\apps\\python\\python311\\lib\\site-packages (from dataclasses-json<0.7,>=0.5.7->langchain==0.1.16) (0.9.0)\n",
      "Requirement already satisfied: jsonpointer>=1.9 in c:\\apps\\python\\python311\\lib\\site-packages (from jsonpatch<2.0,>=1.33->langchain==0.1.16) (2.4)\n",
      "Requirement already satisfied: packaging<24.0,>=23.2 in c:\\apps\\python\\python311\\lib\\site-packages (from langchain-core<0.2.0,>=0.1.42->langchain==0.1.16) (23.2)\n",
      "Requirement already satisfied: orjson<4.0.0,>=3.9.14 in c:\\apps\\python\\python311\\lib\\site-packages (from langsmith<0.2.0,>=0.1.17->langchain==0.1.16) (3.10.1)\n",
      "Requirement already satisfied: annotated-types>=0.4.0 in c:\\apps\\python\\python311\\lib\\site-packages (from pydantic<3,>=1->langchain==0.1.16) (0.6.0)\n",
      "Requirement already satisfied: pydantic-core==2.18.1 in c:\\apps\\python\\python311\\lib\\site-packages (from pydantic<3,>=1->langchain==0.1.16) (2.18.1)\n",
      "Requirement already satisfied: typing-extensions>=4.6.1 in c:\\apps\\python\\python311\\lib\\site-packages (from pydantic<3,>=1->langchain==0.1.16) (4.8.0)\n",
      "Requirement already satisfied: charset-normalizer<4,>=2 in c:\\apps\\python\\python311\\lib\\site-packages (from requests<3,>=2->langchain==0.1.16) (3.3.2)\n",
      "Requirement already satisfied: idna<4,>=2.5 in c:\\apps\\python\\python311\\lib\\site-packages (from requests<3,>=2->langchain==0.1.16) (3.4)\n",
      "Requirement already satisfied: urllib3<3,>=1.21.1 in c:\\apps\\python\\python311\\lib\\site-packages (from requests<3,>=2->langchain==0.1.16) (2.1.0)\n",
      "Requirement already satisfied: certifi>=2017.4.17 in c:\\apps\\python\\python311\\lib\\site-packages (from requests<3,>=2->langchain==0.1.16) (2023.7.22)\n",
      "Requirement already satisfied: greenlet!=0.4.17 in c:\\apps\\python\\python311\\lib\\site-packages (from SQLAlchemy<3,>=1.4->langchain==0.1.16) (3.0.1)\n",
      "Requirement already satisfied: mypy-extensions>=0.3.0 in c:\\apps\\python\\python311\\lib\\site-packages (from typing-inspect<1,>=0.4.0->dataclasses-json<0.7,>=0.5.7->langchain==0.1.16) (1.0.0)\n",
      "Requirement already satisfied: langchain_ibm in c:\\apps\\python\\python311\\lib\\site-packages (0.1.3)\n",
      "Requirement already satisfied: ibm-watsonx-ai<0.3.0,>=0.2.0 in c:\\apps\\python\\python311\\lib\\site-packages (from langchain_ibm) (0.2.6)\n",
      "Requirement already satisfied: langchain-core<0.2.0,>=0.1.29 in c:\\apps\\python\\python311\\lib\\site-packages (from langchain_ibm) (0.1.45)\n",
      "Requirement already satisfied: ibm-watson-machine-learning>=1.0.349 in c:\\apps\\python\\python311\\lib\\site-packages (from ibm-watsonx-ai<0.3.0,>=0.2.0->langchain_ibm) (1.0.355)\n",
      "Requirement already satisfied: PyYAML>=5.3 in c:\\apps\\python\\python311\\lib\\site-packages (from langchain-core<0.2.0,>=0.1.29->langchain_ibm) (6.0.1)\n",
      "Requirement already satisfied: jsonpatch<2.0,>=1.33 in c:\\apps\\python\\python311\\lib\\site-packages (from langchain-core<0.2.0,>=0.1.29->langchain_ibm) (1.33)\n",
      "Requirement already satisfied: langsmith<0.2.0,>=0.1.0 in c:\\apps\\python\\python311\\lib\\site-packages (from langchain-core<0.2.0,>=0.1.29->langchain_ibm) (0.1.49)\n",
      "Requirement already satisfied: packaging<24.0,>=23.2 in c:\\apps\\python\\python311\\lib\\site-packages (from langchain-core<0.2.0,>=0.1.29->langchain_ibm) (23.2)\n",
      "Requirement already satisfied: pydantic<3,>=1 in c:\\apps\\python\\python311\\lib\\site-packages (from langchain-core<0.2.0,>=0.1.29->langchain_ibm) (2.7.0)\n",
      "Requirement already satisfied: tenacity<9.0.0,>=8.1.0 in c:\\apps\\python\\python311\\lib\\site-packages (from langchain-core<0.2.0,>=0.1.29->langchain_ibm) (8.2.3)\n",
      "Requirement already satisfied: requests in c:\\apps\\python\\python311\\lib\\site-packages (from ibm-watson-machine-learning>=1.0.349->ibm-watsonx-ai<0.3.0,>=0.2.0->langchain_ibm) (2.31.0)\n",
      "Requirement already satisfied: urllib3 in c:\\apps\\python\\python311\\lib\\site-packages (from ibm-watson-machine-learning>=1.0.349->ibm-watsonx-ai<0.3.0,>=0.2.0->langchain_ibm) (2.1.0)\n",
      "Requirement already satisfied: pandas<2.2.0,>=0.24.2 in c:\\apps\\python\\python311\\lib\\site-packages (from ibm-watson-machine-learning>=1.0.349->ibm-watsonx-ai<0.3.0,>=0.2.0->langchain_ibm) (2.1.4)\n",
      "Requirement already satisfied: certifi in c:\\apps\\python\\python311\\lib\\site-packages (from ibm-watson-machine-learning>=1.0.349->ibm-watsonx-ai<0.3.0,>=0.2.0->langchain_ibm) (2023.7.22)\n",
      "Requirement already satisfied: lomond in c:\\apps\\python\\python311\\lib\\site-packages (from ibm-watson-machine-learning>=1.0.349->ibm-watsonx-ai<0.3.0,>=0.2.0->langchain_ibm) (0.3.3)\n",
      "Requirement already satisfied: tabulate in c:\\apps\\python\\python311\\lib\\site-packages (from ibm-watson-machine-learning>=1.0.349->ibm-watsonx-ai<0.3.0,>=0.2.0->langchain_ibm) (0.9.0)\n",
      "Requirement already satisfied: ibm-cos-sdk<2.14.0,>=2.12.0 in c:\\apps\\python\\python311\\lib\\site-packages (from ibm-watson-machine-learning>=1.0.349->ibm-watsonx-ai<0.3.0,>=0.2.0->langchain_ibm) (2.13.4)\n",
      "Requirement already satisfied: importlib-metadata in c:\\apps\\python\\python311\\lib\\site-packages (from ibm-watson-machine-learning>=1.0.349->ibm-watsonx-ai<0.3.0,>=0.2.0->langchain_ibm) (7.0.0)\n",
      "Requirement already satisfied: jsonpointer>=1.9 in c:\\apps\\python\\python311\\lib\\site-packages (from jsonpatch<2.0,>=1.33->langchain-core<0.2.0,>=0.1.29->langchain_ibm) (2.4)\n",
      "Requirement already satisfied: orjson<4.0.0,>=3.9.14 in c:\\apps\\python\\python311\\lib\\site-packages (from langsmith<0.2.0,>=0.1.0->langchain-core<0.2.0,>=0.1.29->langchain_ibm) (3.10.1)\n",
      "Requirement already satisfied: annotated-types>=0.4.0 in c:\\apps\\python\\python311\\lib\\site-packages (from pydantic<3,>=1->langchain-core<0.2.0,>=0.1.29->langchain_ibm) (0.6.0)\n",
      "Requirement already satisfied: pydantic-core==2.18.1 in c:\\apps\\python\\python311\\lib\\site-packages (from pydantic<3,>=1->langchain-core<0.2.0,>=0.1.29->langchain_ibm) (2.18.1)\n",
      "Requirement already satisfied: typing-extensions>=4.6.1 in c:\\apps\\python\\python311\\lib\\site-packages (from pydantic<3,>=1->langchain-core<0.2.0,>=0.1.29->langchain_ibm) (4.8.0)\n",
      "Requirement already satisfied: ibm-cos-sdk-core==2.13.4 in c:\\apps\\python\\python311\\lib\\site-packages (from ibm-cos-sdk<2.14.0,>=2.12.0->ibm-watson-machine-learning>=1.0.349->ibm-watsonx-ai<0.3.0,>=0.2.0->langchain_ibm) (2.13.4)\n",
      "Requirement already satisfied: ibm-cos-sdk-s3transfer==2.13.4 in c:\\apps\\python\\python311\\lib\\site-packages (from ibm-cos-sdk<2.14.0,>=2.12.0->ibm-watson-machine-learning>=1.0.349->ibm-watsonx-ai<0.3.0,>=0.2.0->langchain_ibm) (2.13.4)\n",
      "Requirement already satisfied: jmespath<=1.0.1,>=0.10.0 in c:\\apps\\python\\python311\\lib\\site-packages (from ibm-cos-sdk<2.14.0,>=2.12.0->ibm-watson-machine-learning>=1.0.349->ibm-watsonx-ai<0.3.0,>=0.2.0->langchain_ibm) (1.0.1)\n",
      "Requirement already satisfied: python-dateutil<3.0.0,>=2.8.2 in c:\\users\\usuario\\appdata\\roaming\\python\\python311\\site-packages (from ibm-cos-sdk-core==2.13.4->ibm-cos-sdk<2.14.0,>=2.12.0->ibm-watson-machine-learning>=1.0.349->ibm-watsonx-ai<0.3.0,>=0.2.0->langchain_ibm) (2.9.0.post0)\n",
      "Requirement already satisfied: numpy<2,>=1.23.2 in c:\\apps\\python\\python311\\lib\\site-packages (from pandas<2.2.0,>=0.24.2->ibm-watson-machine-learning>=1.0.349->ibm-watsonx-ai<0.3.0,>=0.2.0->langchain_ibm) (1.26.2)\n",
      "Requirement already satisfied: pytz>=2020.1 in c:\\apps\\python\\python311\\lib\\site-packages (from pandas<2.2.0,>=0.24.2->ibm-watson-machine-learning>=1.0.349->ibm-watsonx-ai<0.3.0,>=0.2.0->langchain_ibm) (2024.1)\n",
      "Requirement already satisfied: tzdata>=2022.1 in c:\\apps\\python\\python311\\lib\\site-packages (from pandas<2.2.0,>=0.24.2->ibm-watson-machine-learning>=1.0.349->ibm-watsonx-ai<0.3.0,>=0.2.0->langchain_ibm) (2024.1)\n",
      "Requirement already satisfied: charset-normalizer<4,>=2 in c:\\apps\\python\\python311\\lib\\site-packages (from requests->ibm-watson-machine-learning>=1.0.349->ibm-watsonx-ai<0.3.0,>=0.2.0->langchain_ibm) (3.3.2)\n",
      "Requirement already satisfied: idna<4,>=2.5 in c:\\apps\\python\\python311\\lib\\site-packages (from requests->ibm-watson-machine-learning>=1.0.349->ibm-watsonx-ai<0.3.0,>=0.2.0->langchain_ibm) (3.4)\n",
      "Requirement already satisfied: zipp>=0.5 in c:\\apps\\python\\python311\\lib\\site-packages (from importlib-metadata->ibm-watson-machine-learning>=1.0.349->ibm-watsonx-ai<0.3.0,>=0.2.0->langchain_ibm) (3.18.1)\n",
      "Requirement already satisfied: six>=1.10.0 in c:\\users\\usuario\\appdata\\roaming\\python\\python311\\site-packages (from lomond->ibm-watson-machine-learning>=1.0.349->ibm-watsonx-ai<0.3.0,>=0.2.0->langchain_ibm) (1.16.0)\n",
      "Requirement already satisfied: wget in c:\\apps\\python\\python311\\lib\\site-packages (3.2)\n",
      "Requirement already satisfied: sentence-transformers in c:\\apps\\python\\python311\\lib\\site-packages (2.7.0)\n",
      "Requirement already satisfied: transformers<5.0.0,>=4.34.0 in c:\\apps\\python\\python311\\lib\\site-packages (from sentence-transformers) (4.39.3)\n",
      "Requirement already satisfied: tqdm in c:\\apps\\python\\python311\\lib\\site-packages (from sentence-transformers) (4.66.2)\n",
      "Requirement already satisfied: torch>=1.11.0 in c:\\apps\\python\\python311\\lib\\site-packages (from sentence-transformers) (2.2.2)\n",
      "Requirement already satisfied: numpy in c:\\apps\\python\\python311\\lib\\site-packages (from sentence-transformers) (1.26.2)\n",
      "Requirement already satisfied: scikit-learn in c:\\apps\\python\\python311\\lib\\site-packages (from sentence-transformers) (1.4.2)\n",
      "Requirement already satisfied: scipy in c:\\apps\\python\\python311\\lib\\site-packages (from sentence-transformers) (1.13.0)\n",
      "Requirement already satisfied: huggingface-hub>=0.15.1 in c:\\apps\\python\\python311\\lib\\site-packages (from sentence-transformers) (0.22.2)\n",
      "Requirement already satisfied: Pillow in c:\\apps\\python\\python311\\lib\\site-packages (from sentence-transformers) (10.3.0)\n",
      "Requirement already satisfied: filelock in c:\\apps\\python\\python311\\lib\\site-packages (from huggingface-hub>=0.15.1->sentence-transformers) (3.12.4)\n",
      "Requirement already satisfied: fsspec>=2023.5.0 in c:\\apps\\python\\python311\\lib\\site-packages (from huggingface-hub>=0.15.1->sentence-transformers) (2024.3.1)\n",
      "Requirement already satisfied: packaging>=20.9 in c:\\apps\\python\\python311\\lib\\site-packages (from huggingface-hub>=0.15.1->sentence-transformers) (23.2)\n",
      "Requirement already satisfied: pyyaml>=5.1 in c:\\apps\\python\\python311\\lib\\site-packages (from huggingface-hub>=0.15.1->sentence-transformers) (6.0.1)\n",
      "Requirement already satisfied: requests in c:\\apps\\python\\python311\\lib\\site-packages (from huggingface-hub>=0.15.1->sentence-transformers) (2.31.0)\n",
      "Requirement already satisfied: typing-extensions>=3.7.4.3 in c:\\apps\\python\\python311\\lib\\site-packages (from huggingface-hub>=0.15.1->sentence-transformers) (4.8.0)\n",
      "Requirement already satisfied: sympy in c:\\apps\\python\\python311\\lib\\site-packages (from torch>=1.11.0->sentence-transformers) (1.12)\n",
      "Requirement already satisfied: networkx in c:\\apps\\python\\python311\\lib\\site-packages (from torch>=1.11.0->sentence-transformers) (3.2.1)\n",
      "Requirement already satisfied: jinja2 in c:\\apps\\python\\python311\\lib\\site-packages (from torch>=1.11.0->sentence-transformers) (3.1.3)\n",
      "Requirement already satisfied: colorama in c:\\users\\usuario\\appdata\\roaming\\python\\python311\\site-packages (from tqdm->sentence-transformers) (0.4.6)\n",
      "Requirement already satisfied: regex!=2019.12.17 in c:\\apps\\python\\python311\\lib\\site-packages (from transformers<5.0.0,>=4.34.0->sentence-transformers) (2023.12.25)\n",
      "Requirement already satisfied: tokenizers<0.19,>=0.14 in c:\\apps\\python\\python311\\lib\\site-packages (from transformers<5.0.0,>=4.34.0->sentence-transformers) (0.15.2)\n",
      "Requirement already satisfied: safetensors>=0.4.1 in c:\\apps\\python\\python311\\lib\\site-packages (from transformers<5.0.0,>=4.34.0->sentence-transformers) (0.4.2)\n",
      "Requirement already satisfied: joblib>=1.2.0 in c:\\apps\\python\\python311\\lib\\site-packages (from scikit-learn->sentence-transformers) (1.3.2)\n",
      "Requirement already satisfied: threadpoolctl>=2.0.0 in c:\\apps\\python\\python311\\lib\\site-packages (from scikit-learn->sentence-transformers) (3.4.0)\n",
      "Requirement already satisfied: MarkupSafe>=2.0 in c:\\apps\\python\\python311\\lib\\site-packages (from jinja2->torch>=1.11.0->sentence-transformers) (2.1.5)\n",
      "Requirement already satisfied: charset-normalizer<4,>=2 in c:\\apps\\python\\python311\\lib\\site-packages (from requests->huggingface-hub>=0.15.1->sentence-transformers) (3.3.2)\n",
      "Requirement already satisfied: idna<4,>=2.5 in c:\\apps\\python\\python311\\lib\\site-packages (from requests->huggingface-hub>=0.15.1->sentence-transformers) (3.4)\n",
      "Requirement already satisfied: urllib3<3,>=1.21.1 in c:\\apps\\python\\python311\\lib\\site-packages (from requests->huggingface-hub>=0.15.1->sentence-transformers) (2.1.0)\n",
      "Requirement already satisfied: certifi>=2017.4.17 in c:\\apps\\python\\python311\\lib\\site-packages (from requests->huggingface-hub>=0.15.1->sentence-transformers) (2023.7.22)\n",
      "Requirement already satisfied: mpmath>=0.19 in c:\\apps\\python\\python311\\lib\\site-packages (from sympy->torch>=1.11.0->sentence-transformers) (1.3.0)\n",
      "Requirement already satisfied: chromadb==0.4.24 in c:\\apps\\python\\python311\\lib\\site-packages (0.4.24)\n",
      "Requirement already satisfied: build>=1.0.3 in c:\\apps\\python\\python311\\lib\\site-packages (from chromadb==0.4.24) (1.2.1)\n",
      "Requirement already satisfied: requests>=2.28 in c:\\apps\\python\\python311\\lib\\site-packages (from chromadb==0.4.24) (2.31.0)\n",
      "Requirement already satisfied: pydantic>=1.9 in c:\\apps\\python\\python311\\lib\\site-packages (from chromadb==0.4.24) (2.7.0)\n",
      "Requirement already satisfied: chroma-hnswlib==0.7.3 in c:\\apps\\python\\python311\\lib\\site-packages (from chromadb==0.4.24) (0.7.3)\n",
      "Requirement already satisfied: fastapi>=0.95.2 in c:\\apps\\python\\python311\\lib\\site-packages (from chromadb==0.4.24) (0.110.2)\n",
      "Requirement already satisfied: uvicorn>=0.18.3 in c:\\apps\\python\\python311\\lib\\site-packages (from uvicorn[standard]>=0.18.3->chromadb==0.4.24) (0.29.0)\n",
      "Requirement already satisfied: numpy>=1.22.5 in c:\\apps\\python\\python311\\lib\\site-packages (from chromadb==0.4.24) (1.26.2)\n",
      "Requirement already satisfied: posthog>=2.4.0 in c:\\apps\\python\\python311\\lib\\site-packages (from chromadb==0.4.24) (3.5.0)\n",
      "Requirement already satisfied: typing-extensions>=4.5.0 in c:\\apps\\python\\python311\\lib\\site-packages (from chromadb==0.4.24) (4.8.0)\n",
      "Requirement already satisfied: pulsar-client>=3.1.0 in c:\\apps\\python\\python311\\lib\\site-packages (from chromadb==0.4.24) (3.5.0)\n",
      "Requirement already satisfied: onnxruntime>=1.14.1 in c:\\apps\\python\\python311\\lib\\site-packages (from chromadb==0.4.24) (1.17.3)\n",
      "Requirement already satisfied: opentelemetry-api>=1.2.0 in c:\\apps\\python\\python311\\lib\\site-packages (from chromadb==0.4.24) (1.24.0)\n",
      "Requirement already satisfied: opentelemetry-exporter-otlp-proto-grpc>=1.2.0 in c:\\apps\\python\\python311\\lib\\site-packages (from chromadb==0.4.24) (1.24.0)\n",
      "Requirement already satisfied: opentelemetry-instrumentation-fastapi>=0.41b0 in c:\\apps\\python\\python311\\lib\\site-packages (from chromadb==0.4.24) (0.45b0)\n",
      "Requirement already satisfied: opentelemetry-sdk>=1.2.0 in c:\\apps\\python\\python311\\lib\\site-packages (from chromadb==0.4.24) (1.24.0)\n",
      "Requirement already satisfied: tokenizers>=0.13.2 in c:\\apps\\python\\python311\\lib\\site-packages (from chromadb==0.4.24) (0.15.2)\n",
      "Requirement already satisfied: pypika>=0.48.9 in c:\\apps\\python\\python311\\lib\\site-packages (from chromadb==0.4.24) (0.48.9)\n",
      "Requirement already satisfied: tqdm>=4.65.0 in c:\\apps\\python\\python311\\lib\\site-packages (from chromadb==0.4.24) (4.66.2)\n",
      "Requirement already satisfied: overrides>=7.3.1 in c:\\apps\\python\\python311\\lib\\site-packages (from chromadb==0.4.24) (7.7.0)\n",
      "Requirement already satisfied: importlib-resources in c:\\apps\\python\\python311\\lib\\site-packages (from chromadb==0.4.24) (6.4.0)\n",
      "Requirement already satisfied: grpcio>=1.58.0 in c:\\apps\\python\\python311\\lib\\site-packages (from chromadb==0.4.24) (1.62.2)\n",
      "Requirement already satisfied: bcrypt>=4.0.1 in c:\\apps\\python\\python311\\lib\\site-packages (from chromadb==0.4.24) (4.1.2)\n",
      "Requirement already satisfied: typer>=0.9.0 in c:\\apps\\python\\python311\\lib\\site-packages (from chromadb==0.4.24) (0.12.3)\n",
      "Requirement already satisfied: kubernetes>=28.1.0 in c:\\apps\\python\\python311\\lib\\site-packages (from chromadb==0.4.24) (29.0.0)\n",
      "Requirement already satisfied: tenacity>=8.2.3 in c:\\apps\\python\\python311\\lib\\site-packages (from chromadb==0.4.24) (8.2.3)\n",
      "Requirement already satisfied: PyYAML>=6.0.0 in c:\\apps\\python\\python311\\lib\\site-packages (from chromadb==0.4.24) (6.0.1)\n",
      "Requirement already satisfied: mmh3>=4.0.1 in c:\\apps\\python\\python311\\lib\\site-packages (from chromadb==0.4.24) (4.1.0)\n",
      "Requirement already satisfied: orjson>=3.9.12 in c:\\apps\\python\\python311\\lib\\site-packages (from chromadb==0.4.24) (3.10.1)\n",
      "Requirement already satisfied: packaging>=19.1 in c:\\apps\\python\\python311\\lib\\site-packages (from build>=1.0.3->chromadb==0.4.24) (23.2)\n",
      "Requirement already satisfied: pyproject_hooks in c:\\apps\\python\\python311\\lib\\site-packages (from build>=1.0.3->chromadb==0.4.24) (1.0.0)\n",
      "Requirement already satisfied: colorama in c:\\users\\usuario\\appdata\\roaming\\python\\python311\\site-packages (from build>=1.0.3->chromadb==0.4.24) (0.4.6)\n",
      "Requirement already satisfied: starlette<0.38.0,>=0.37.2 in c:\\apps\\python\\python311\\lib\\site-packages (from fastapi>=0.95.2->chromadb==0.4.24) (0.37.2)\n",
      "Requirement already satisfied: certifi>=14.05.14 in c:\\apps\\python\\python311\\lib\\site-packages (from kubernetes>=28.1.0->chromadb==0.4.24) (2023.7.22)\n",
      "Requirement already satisfied: six>=1.9.0 in c:\\users\\usuario\\appdata\\roaming\\python\\python311\\site-packages (from kubernetes>=28.1.0->chromadb==0.4.24) (1.16.0)\n",
      "Requirement already satisfied: python-dateutil>=2.5.3 in c:\\users\\usuario\\appdata\\roaming\\python\\python311\\site-packages (from kubernetes>=28.1.0->chromadb==0.4.24) (2.9.0.post0)\n",
      "Requirement already satisfied: google-auth>=1.0.1 in c:\\apps\\python\\python311\\lib\\site-packages (from kubernetes>=28.1.0->chromadb==0.4.24) (2.29.0)\n",
      "Requirement already satisfied: websocket-client!=0.40.0,!=0.41.*,!=0.42.*,>=0.32.0 in c:\\apps\\python\\python311\\lib\\site-packages (from kubernetes>=28.1.0->chromadb==0.4.24) (1.7.0)\n",
      "Requirement already satisfied: requests-oauthlib in c:\\apps\\python\\python311\\lib\\site-packages (from kubernetes>=28.1.0->chromadb==0.4.24) (2.0.0)\n",
      "Requirement already satisfied: oauthlib>=3.2.2 in c:\\apps\\python\\python311\\lib\\site-packages (from kubernetes>=28.1.0->chromadb==0.4.24) (3.2.2)\n",
      "Requirement already satisfied: urllib3>=1.24.2 in c:\\apps\\python\\python311\\lib\\site-packages (from kubernetes>=28.1.0->chromadb==0.4.24) (2.1.0)\n",
      "Requirement already satisfied: coloredlogs in c:\\apps\\python\\python311\\lib\\site-packages (from onnxruntime>=1.14.1->chromadb==0.4.24) (15.0.1)\n",
      "Requirement already satisfied: flatbuffers in c:\\apps\\python\\python311\\lib\\site-packages (from onnxruntime>=1.14.1->chromadb==0.4.24) (24.3.25)\n",
      "Requirement already satisfied: protobuf in c:\\apps\\python\\python311\\lib\\site-packages (from onnxruntime>=1.14.1->chromadb==0.4.24) (4.25.3)\n",
      "Requirement already satisfied: sympy in c:\\apps\\python\\python311\\lib\\site-packages (from onnxruntime>=1.14.1->chromadb==0.4.24) (1.12)\n",
      "Requirement already satisfied: deprecated>=1.2.6 in c:\\apps\\python\\python311\\lib\\site-packages (from opentelemetry-api>=1.2.0->chromadb==0.4.24) (1.2.14)\n",
      "Requirement already satisfied: importlib-metadata<=7.0,>=6.0 in c:\\apps\\python\\python311\\lib\\site-packages (from opentelemetry-api>=1.2.0->chromadb==0.4.24) (7.0.0)\n",
      "Requirement already satisfied: googleapis-common-protos~=1.52 in c:\\apps\\python\\python311\\lib\\site-packages (from opentelemetry-exporter-otlp-proto-grpc>=1.2.0->chromadb==0.4.24) (1.63.0)\n",
      "Requirement already satisfied: opentelemetry-exporter-otlp-proto-common==1.24.0 in c:\\apps\\python\\python311\\lib\\site-packages (from opentelemetry-exporter-otlp-proto-grpc>=1.2.0->chromadb==0.4.24) (1.24.0)\n",
      "Requirement already satisfied: opentelemetry-proto==1.24.0 in c:\\apps\\python\\python311\\lib\\site-packages (from opentelemetry-exporter-otlp-proto-grpc>=1.2.0->chromadb==0.4.24) (1.24.0)\n",
      "Requirement already satisfied: opentelemetry-instrumentation-asgi==0.45b0 in c:\\apps\\python\\python311\\lib\\site-packages (from opentelemetry-instrumentation-fastapi>=0.41b0->chromadb==0.4.24) (0.45b0)\n",
      "Requirement already satisfied: opentelemetry-instrumentation==0.45b0 in c:\\apps\\python\\python311\\lib\\site-packages (from opentelemetry-instrumentation-fastapi>=0.41b0->chromadb==0.4.24) (0.45b0)\n",
      "Requirement already satisfied: opentelemetry-semantic-conventions==0.45b0 in c:\\apps\\python\\python311\\lib\\site-packages (from opentelemetry-instrumentation-fastapi>=0.41b0->chromadb==0.4.24) (0.45b0)\n",
      "Requirement already satisfied: opentelemetry-util-http==0.45b0 in c:\\apps\\python\\python311\\lib\\site-packages (from opentelemetry-instrumentation-fastapi>=0.41b0->chromadb==0.4.24) (0.45b0)\n",
      "Requirement already satisfied: setuptools>=16.0 in c:\\apps\\python\\python311\\lib\\site-packages (from opentelemetry-instrumentation==0.45b0->opentelemetry-instrumentation-fastapi>=0.41b0->chromadb==0.4.24) (68.2.2)\n",
      "Requirement already satisfied: wrapt<2.0.0,>=1.0.0 in c:\\apps\\python\\python311\\lib\\site-packages (from opentelemetry-instrumentation==0.45b0->opentelemetry-instrumentation-fastapi>=0.41b0->chromadb==0.4.24) (1.16.0)\n",
      "Requirement already satisfied: asgiref~=3.0 in c:\\apps\\python\\python311\\lib\\site-packages (from opentelemetry-instrumentation-asgi==0.45b0->opentelemetry-instrumentation-fastapi>=0.41b0->chromadb==0.4.24) (3.8.1)\n",
      "Requirement already satisfied: monotonic>=1.5 in c:\\apps\\python\\python311\\lib\\site-packages (from posthog>=2.4.0->chromadb==0.4.24) (1.6)\n",
      "Requirement already satisfied: backoff>=1.10.0 in c:\\apps\\python\\python311\\lib\\site-packages (from posthog>=2.4.0->chromadb==0.4.24) (2.2.1)\n",
      "Requirement already satisfied: annotated-types>=0.4.0 in c:\\apps\\python\\python311\\lib\\site-packages (from pydantic>=1.9->chromadb==0.4.24) (0.6.0)\n",
      "Requirement already satisfied: pydantic-core==2.18.1 in c:\\apps\\python\\python311\\lib\\site-packages (from pydantic>=1.9->chromadb==0.4.24) (2.18.1)\n",
      "Requirement already satisfied: charset-normalizer<4,>=2 in c:\\apps\\python\\python311\\lib\\site-packages (from requests>=2.28->chromadb==0.4.24) (3.3.2)\n",
      "Requirement already satisfied: idna<4,>=2.5 in c:\\apps\\python\\python311\\lib\\site-packages (from requests>=2.28->chromadb==0.4.24) (3.4)\n",
      "Requirement already satisfied: huggingface_hub<1.0,>=0.16.4 in c:\\apps\\python\\python311\\lib\\site-packages (from tokenizers>=0.13.2->chromadb==0.4.24) (0.22.2)\n",
      "Requirement already satisfied: click>=8.0.0 in c:\\apps\\python\\python311\\lib\\site-packages (from typer>=0.9.0->chromadb==0.4.24) (8.1.7)\n",
      "Requirement already satisfied: shellingham>=1.3.0 in c:\\apps\\python\\python311\\lib\\site-packages (from typer>=0.9.0->chromadb==0.4.24) (1.5.4)\n",
      "Requirement already satisfied: rich>=10.11.0 in c:\\apps\\python\\python311\\lib\\site-packages (from typer>=0.9.0->chromadb==0.4.24) (13.7.1)\n",
      "Requirement already satisfied: h11>=0.8 in c:\\apps\\python\\python311\\lib\\site-packages (from uvicorn>=0.18.3->uvicorn[standard]>=0.18.3->chromadb==0.4.24) (0.14.0)\n",
      "Requirement already satisfied: httptools>=0.5.0 in c:\\apps\\python\\python311\\lib\\site-packages (from uvicorn[standard]>=0.18.3->chromadb==0.4.24) (0.6.1)\n",
      "Requirement already satisfied: python-dotenv>=0.13 in c:\\apps\\python\\python311\\lib\\site-packages (from uvicorn[standard]>=0.18.3->chromadb==0.4.24) (1.0.1)\n",
      "Requirement already satisfied: watchfiles>=0.13 in c:\\apps\\python\\python311\\lib\\site-packages (from uvicorn[standard]>=0.18.3->chromadb==0.4.24) (0.21.0)\n",
      "Requirement already satisfied: websockets>=10.4 in c:\\apps\\python\\python311\\lib\\site-packages (from uvicorn[standard]>=0.18.3->chromadb==0.4.24) (12.0)\n",
      "Requirement already satisfied: cachetools<6.0,>=2.0.0 in c:\\apps\\python\\python311\\lib\\site-packages (from google-auth>=1.0.1->kubernetes>=28.1.0->chromadb==0.4.24) (5.3.3)\n",
      "Requirement already satisfied: pyasn1-modules>=0.2.1 in c:\\apps\\python\\python311\\lib\\site-packages (from google-auth>=1.0.1->kubernetes>=28.1.0->chromadb==0.4.24) (0.4.0)\n",
      "Requirement already satisfied: rsa<5,>=3.1.4 in c:\\apps\\python\\python311\\lib\\site-packages (from google-auth>=1.0.1->kubernetes>=28.1.0->chromadb==0.4.24) (4.9)\n",
      "Requirement already satisfied: filelock in c:\\apps\\python\\python311\\lib\\site-packages (from huggingface_hub<1.0,>=0.16.4->tokenizers>=0.13.2->chromadb==0.4.24) (3.12.4)\n",
      "Requirement already satisfied: fsspec>=2023.5.0 in c:\\apps\\python\\python311\\lib\\site-packages (from huggingface_hub<1.0,>=0.16.4->tokenizers>=0.13.2->chromadb==0.4.24) (2024.3.1)\n",
      "Requirement already satisfied: zipp>=0.5 in c:\\apps\\python\\python311\\lib\\site-packages (from importlib-metadata<=7.0,>=6.0->opentelemetry-api>=1.2.0->chromadb==0.4.24) (3.18.1)\n",
      "Requirement already satisfied: markdown-it-py>=2.2.0 in c:\\apps\\python\\python311\\lib\\site-packages (from rich>=10.11.0->typer>=0.9.0->chromadb==0.4.24) (3.0.0)\n",
      "Requirement already satisfied: pygments<3.0.0,>=2.13.0 in c:\\users\\usuario\\appdata\\roaming\\python\\python311\\site-packages (from rich>=10.11.0->typer>=0.9.0->chromadb==0.4.24) (2.17.2)\n",
      "Requirement already satisfied: anyio<5,>=3.4.0 in c:\\apps\\python\\python311\\lib\\site-packages (from starlette<0.38.0,>=0.37.2->fastapi>=0.95.2->chromadb==0.4.24) (3.7.1)\n",
      "Requirement already satisfied: humanfriendly>=9.1 in c:\\apps\\python\\python311\\lib\\site-packages (from coloredlogs->onnxruntime>=1.14.1->chromadb==0.4.24) (10.0)\n",
      "Requirement already satisfied: mpmath>=0.19 in c:\\apps\\python\\python311\\lib\\site-packages (from sympy->onnxruntime>=1.14.1->chromadb==0.4.24) (1.3.0)\n",
      "Requirement already satisfied: sniffio>=1.1 in c:\\apps\\python\\python311\\lib\\site-packages (from anyio<5,>=3.4.0->starlette<0.38.0,>=0.37.2->fastapi>=0.95.2->chromadb==0.4.24) (1.3.0)\n",
      "Requirement already satisfied: pyreadline3 in c:\\apps\\python\\python311\\lib\\site-packages (from humanfriendly>=9.1->coloredlogs->onnxruntime>=1.14.1->chromadb==0.4.24) (3.4.1)\n",
      "Requirement already satisfied: mdurl~=0.1 in c:\\apps\\python\\python311\\lib\\site-packages (from markdown-it-py>=2.2.0->rich>=10.11.0->typer>=0.9.0->chromadb==0.4.24) (0.1.2)\n",
      "Requirement already satisfied: pyasn1<0.7.0,>=0.4.6 in c:\\apps\\python\\python311\\lib\\site-packages (from pyasn1-modules>=0.2.1->google-auth>=1.0.1->kubernetes>=28.1.0->chromadb==0.4.24) (0.6.0)\n"
     ]
    },
    {
     "name": "stderr",
     "output_type": "stream",
     "text": [
      "ERROR: Invalid requirement: 'ibm-watsonx-ai=0.2.6'\n",
      "Hint: = is not a valid operator. Did you mean == ?\n"
     ]
    },
    {
     "name": "stdout",
     "output_type": "stream",
     "text": [
      "Requirement already satisfied: pydantic==2.7.0 in c:\\apps\\python\\python311\\lib\\site-packages (2.7.0)\n",
      "Requirement already satisfied: annotated-types>=0.4.0 in c:\\apps\\python\\python311\\lib\\site-packages (from pydantic==2.7.0) (0.6.0)\n",
      "Requirement already satisfied: pydantic-core==2.18.1 in c:\\apps\\python\\python311\\lib\\site-packages (from pydantic==2.7.0) (2.18.1)\n",
      "Requirement already satisfied: typing-extensions>=4.6.1 in c:\\apps\\python\\python311\\lib\\site-packages (from pydantic==2.7.0) (4.8.0)\n",
      "Requirement already satisfied: sqlalchemy==2.0.29 in c:\\apps\\python\\python311\\lib\\site-packages (2.0.29)\n",
      "Requirement already satisfied: typing-extensions>=4.6.0 in c:\\apps\\python\\python311\\lib\\site-packages (from sqlalchemy==2.0.29) (4.8.0)\n",
      "Requirement already satisfied: greenlet!=0.4.17 in c:\\apps\\python\\python311\\lib\\site-packages (from sqlalchemy==2.0.29) (3.0.1)\n"
     ]
    }
   ],
   "source": [
    "%pip install \"langchain==0.1.16\"\n",
    "%pip install langchain_ibm\n",
    "%pip install wget \n",
    "%pip install sentence-transformers \n",
    "%pip install \"chromadb==0.4.24\"\n",
    "%pip install \"ibm-watsonx-ai=0.2.6\"\n",
    "%pip install \"pydantic==2.7.0\"\n",
    "%pip install \"sqlalchemy==2.0.29\""
   ]
  },
  {
   "cell_type": "markdown",
   "metadata": {},
   "source": [
    "watsonx API connection"
   ]
  },
  {
   "cell_type": "code",
   "execution_count": 17,
   "metadata": {},
   "outputs": [],
   "source": [
    "import getpass\n",
    "\n",
    "\n",
    "credentials = {\n",
    "    \"url\": \"https://us-south.ml.cloud.ibm.com\",\n",
    "    \"apikey\": getpass.getpass(\"Please enter your WML api key (hit enter): \")\n",
    "}"
   ]
  },
  {
   "cell_type": "markdown",
   "metadata": {},
   "source": [
    "Project ID"
   ]
  },
  {
   "cell_type": "code",
   "execution_count": 18,
   "metadata": {},
   "outputs": [],
   "source": [
    "import os\n",
    "\n",
    "try:\n",
    "    project_id = os.environ[\"PROJECT_ID\"]\n",
    "except KeyError:\n",
    "    project_id = input(\"Please enter your project_id (hit enter): \")"
   ]
  },
  {
   "cell_type": "markdown",
   "metadata": {},
   "source": [
    "Document data loading"
   ]
  },
  {
   "cell_type": "code",
   "execution_count": 19,
   "metadata": {},
   "outputs": [],
   "source": [
    "import wget\n",
    "\n",
    "filename = 'state_of_the_union.txt'\n",
    "url = 'https://raw.github.com/IBM/watson-machine-learning-samples/master/cloud/data/foundation_models/state_of_the_union.txt'\n",
    "\n",
    "if not os.path.isfile(filename):\n",
    "    wget.download(url, out=filename)"
   ]
  },
  {
   "cell_type": "code",
   "execution_count": 25,
   "metadata": {},
   "outputs": [],
   "source": [
    "from langchain.document_loaders import TextLoader\n",
    "from langchain.text_splitter import CharacterTextSplitter\n",
    "from langchain.vectorstores import Chroma\n",
    "\n",
    "loader = TextLoader(filename)\n",
    "documents = loader.load()\n",
    "text_splitter = CharacterTextSplitter(chunk_size=1000, chunk_overlap=0)\n",
    "texts = text_splitter.split_documents(documents)"
   ]
  },
  {
   "cell_type": "markdown",
   "metadata": {},
   "source": [
    "Create an embedding function"
   ]
  },
  {
   "cell_type": "code",
   "execution_count": 26,
   "metadata": {},
   "outputs": [
    {
     "name": "stderr",
     "output_type": "stream",
     "text": [
      "c:\\apps\\Python\\Python311\\Lib\\site-packages\\tqdm\\auto.py:21: TqdmWarning: IProgress not found. Please update jupyter and ipywidgets. See https://ipywidgets.readthedocs.io/en/stable/user_install.html\n",
      "  from .autonotebook import tqdm as notebook_tqdm\n",
      "c:\\apps\\Python\\Python311\\Lib\\site-packages\\huggingface_hub\\file_download.py:148: UserWarning: `huggingface_hub` cache-system uses symlinks by default to efficiently store duplicated files but your machine does not support them in C:\\Users\\Usuario\\.cache\\huggingface\\hub\\models--sentence-transformers--all-mpnet-base-v2. Caching files will still work but in a degraded version that might require more space on your disk. This warning can be disabled by setting the `HF_HUB_DISABLE_SYMLINKS_WARNING` environment variable. For more details, see https://huggingface.co/docs/huggingface_hub/how-to-cache#limitations.\n",
      "To support symlinks on Windows, you either need to activate Developer Mode or to run Python as an administrator. In order to see activate developer mode, see this article: https://docs.microsoft.com/en-us/windows/apps/get-started/enable-your-device-for-development\n",
      "  warnings.warn(message)\n"
     ]
    }
   ],
   "source": [
    "from langchain.embeddings import HuggingFaceEmbeddings\n",
    "\n",
    "embeddings = HuggingFaceEmbeddings()\n",
    "docsearch = Chroma.from_documents(texts, embeddings)"
   ]
  },
  {
   "cell_type": "markdown",
   "metadata": {},
   "source": [
    "Defining model"
   ]
  },
  {
   "cell_type": "code",
   "execution_count": 27,
   "metadata": {},
   "outputs": [],
   "source": [
    "from ibm_watsonx_ai.foundation_models.utils.enums import ModelTypes\n",
    "\n",
    "model_id = ModelTypes.GRANITE_13B_CHAT_V2"
   ]
  },
  {
   "cell_type": "markdown",
   "metadata": {},
   "source": [
    "Defining the model parameters"
   ]
  },
  {
   "cell_type": "code",
   "execution_count": 28,
   "metadata": {},
   "outputs": [],
   "source": [
    "from ibm_watsonx_ai.metanames import GenTextParamsMetaNames as GenParams\n",
    "from ibm_watsonx_ai.foundation_models.utils.enums import DecodingMethods\n",
    "\n",
    "parameters = {\n",
    "    GenParams.DECODING_METHOD: DecodingMethods.GREEDY,\n",
    "    GenParams.MIN_NEW_TOKENS: 1,\n",
    "    GenParams.MAX_NEW_TOKENS: 100,\n",
    "    GenParams.STOP_SEQUENCES: [\"<|endoftext|>\"]\n",
    "}"
   ]
  },
  {
   "cell_type": "markdown",
   "metadata": {},
   "source": [
    "LangChain CustomLLM wrapper for watsonx model"
   ]
  },
  {
   "cell_type": "code",
   "execution_count": 29,
   "metadata": {},
   "outputs": [],
   "source": [
    "from langchain_ibm import WatsonxLLM\n",
    "\n",
    "watsonx_granite = WatsonxLLM(\n",
    "    model_id=model_id.value,\n",
    "    url=credentials.get(\"url\"),\n",
    "    apikey=credentials.get(\"apikey\"),\n",
    "    project_id=project_id,\n",
    "    params=parameters\n",
    ")"
   ]
  },
  {
   "cell_type": "markdown",
   "metadata": {},
   "source": [
    "Generate a retrieval-augmented response to a question"
   ]
  },
  {
   "cell_type": "code",
   "execution_count": 30,
   "metadata": {},
   "outputs": [],
   "source": [
    "from langchain.chains import RetrievalQA\n",
    "\n",
    "qa = RetrievalQA.from_chain_type(llm=watsonx_granite, chain_type=\"stuff\", retriever=docsearch.as_retriever())"
   ]
  },
  {
   "cell_type": "markdown",
   "metadata": {},
   "source": [
    "Select questions"
   ]
  },
  {
   "cell_type": "code",
   "execution_count": 31,
   "metadata": {},
   "outputs": [
    {
     "data": {
      "text/plain": [
       "{'query': 'What did the president say about Ketanji Brown Jackson',\n",
       " 'result': \" The president said that Ketanji Brown Jackson is one of our nation's top legal minds and will continue Justice Breyer's legacy of excellence.\"}"
      ]
     },
     "execution_count": 31,
     "metadata": {},
     "output_type": "execute_result"
    }
   ],
   "source": [
    "query = \"What did the president say about Ketanji Brown Jackson\"\n",
    "qa.invoke(query)"
   ]
  }
 ],
 "metadata": {
  "kernelspec": {
   "display_name": "Python 3",
   "language": "python",
   "name": "python3"
  },
  "language_info": {
   "codemirror_mode": {
    "name": "ipython",
    "version": 3
   },
   "file_extension": ".py",
   "mimetype": "text/x-python",
   "name": "python",
   "nbconvert_exporter": "python",
   "pygments_lexer": "ipython3",
   "version": "undefined.undefined.undefined"
  }
 },
 "nbformat": 4,
 "nbformat_minor": 2
}
